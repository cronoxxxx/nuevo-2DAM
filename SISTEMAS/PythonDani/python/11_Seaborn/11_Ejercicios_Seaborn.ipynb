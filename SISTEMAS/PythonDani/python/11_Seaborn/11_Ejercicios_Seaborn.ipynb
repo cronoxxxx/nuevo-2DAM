{
 "cells": [
  {
   "cell_type": "markdown",
   "id": "a9ffe97a",
   "metadata": {},
   "source": [
    "<hr>\n",
    "<b><font color='red'>Ejercicio 01</font></b>  \n",
    "Escribe el código necesario para crear los gráficos que se muestran a continuación."
   ]
  },
  {
   "cell_type": "code",
   "execution_count": 36,
   "id": "6e8cf41d",
   "metadata": {},
   "outputs": [
    {
     "data": {
      "text/html": [
       "<div>\n",
       "<style scoped>\n",
       "    .dataframe tbody tr th:only-of-type {\n",
       "        vertical-align: middle;\n",
       "    }\n",
       "\n",
       "    .dataframe tbody tr th {\n",
       "        vertical-align: top;\n",
       "    }\n",
       "\n",
       "    .dataframe thead th {\n",
       "        text-align: right;\n",
       "    }\n",
       "</style>\n",
       "<table border=\"1\" class=\"dataframe\">\n",
       "  <thead>\n",
       "    <tr style=\"text-align: right;\">\n",
       "      <th></th>\n",
       "      <th>sepal_length</th>\n",
       "      <th>sepal_width</th>\n",
       "      <th>petal_length</th>\n",
       "      <th>petal_width</th>\n",
       "      <th>species</th>\n",
       "    </tr>\n",
       "  </thead>\n",
       "  <tbody>\n",
       "    <tr>\n",
       "      <th>0</th>\n",
       "      <td>5.1</td>\n",
       "      <td>3.5</td>\n",
       "      <td>1.4</td>\n",
       "      <td>0.2</td>\n",
       "      <td>setosa</td>\n",
       "    </tr>\n",
       "    <tr>\n",
       "      <th>1</th>\n",
       "      <td>4.9</td>\n",
       "      <td>3.0</td>\n",
       "      <td>1.4</td>\n",
       "      <td>0.2</td>\n",
       "      <td>setosa</td>\n",
       "    </tr>\n",
       "    <tr>\n",
       "      <th>2</th>\n",
       "      <td>4.7</td>\n",
       "      <td>3.2</td>\n",
       "      <td>1.3</td>\n",
       "      <td>0.2</td>\n",
       "      <td>setosa</td>\n",
       "    </tr>\n",
       "    <tr>\n",
       "      <th>3</th>\n",
       "      <td>4.6</td>\n",
       "      <td>3.1</td>\n",
       "      <td>1.5</td>\n",
       "      <td>0.2</td>\n",
       "      <td>setosa</td>\n",
       "    </tr>\n",
       "    <tr>\n",
       "      <th>4</th>\n",
       "      <td>5.0</td>\n",
       "      <td>3.6</td>\n",
       "      <td>1.4</td>\n",
       "      <td>0.2</td>\n",
       "      <td>setosa</td>\n",
       "    </tr>\n",
       "  </tbody>\n",
       "</table>\n",
       "</div>"
      ],
      "text/plain": [
       "   sepal_length  sepal_width  petal_length  petal_width species\n",
       "0           5.1          3.5           1.4          0.2  setosa\n",
       "1           4.9          3.0           1.4          0.2  setosa\n",
       "2           4.7          3.2           1.3          0.2  setosa\n",
       "3           4.6          3.1           1.5          0.2  setosa\n",
       "4           5.0          3.6           1.4          0.2  setosa"
      ]
     },
     "execution_count": 36,
     "metadata": {},
     "output_type": "execute_result"
    }
   ],
   "source": [
    "sns.set_style('darkgrid') # darkgrid, whitegrid, dark, white, ticks\n",
    "iris = sns.load_dataset('iris')\n",
    "iris.head()"
   ]
  },
  {
   "cell_type": "code",
   "execution_count": 37,
   "id": "abf0e8f0",
   "metadata": {},
   "outputs": [
    {
     "data": {
      "text/plain": [
       "'Esribe tu código aquí'"
      ]
     },
     "execution_count": 37,
     "metadata": {},
     "output_type": "execute_result"
    }
   ],
   "source": [
    "\"\"\"Esribe tu código aquí\"\"\""
   ]
  },
  {
   "cell_type": "markdown",
   "id": "33b45a8c",
   "metadata": {},
   "source": [
    "<img src=\"iris.png\" ALIGN=\"left\">"
   ]
  },
  {
   "cell_type": "code",
   "execution_count": 38,
   "id": "7f5ec167",
   "metadata": {},
   "outputs": [
    {
     "data": {
      "text/plain": [
       "'Esribe tu código aquí'"
      ]
     },
     "execution_count": 38,
     "metadata": {},
     "output_type": "execute_result"
    }
   ],
   "source": [
    "\"\"\"Esribe tu código aquí\"\"\""
   ]
  },
  {
   "cell_type": "markdown",
   "id": "5fb7a3f1",
   "metadata": {},
   "source": [
    "<img src=\"iris_especies.png\" ALIGN=\"left\">"
   ]
  },
  {
   "cell_type": "code",
   "execution_count": 39,
   "id": "87963f4b",
   "metadata": {},
   "outputs": [
    {
     "data": {
      "text/plain": [
       "'Esribe tu código aquí'"
      ]
     },
     "execution_count": 39,
     "metadata": {},
     "output_type": "execute_result"
    }
   ],
   "source": [
    "\"\"\"Esribe tu código aquí\"\"\""
   ]
  },
  {
   "cell_type": "markdown",
   "id": "0e2389f5",
   "metadata": {},
   "source": [
    "<img src=\"iris_corr.png\" ALIGN=\"left\">"
   ]
  },
  {
   "cell_type": "code",
   "execution_count": 40,
   "id": "d5a79240",
   "metadata": {},
   "outputs": [
    {
     "data": {
      "text/plain": [
       "'Esribe tu código aquí'"
      ]
     },
     "execution_count": 40,
     "metadata": {},
     "output_type": "execute_result"
    }
   ],
   "source": [
    "\"\"\"Esribe tu código aquí\"\"\""
   ]
  },
  {
   "cell_type": "markdown",
   "id": "2e2e654c",
   "metadata": {},
   "source": [
    "<img src=\"iris_corr_especies.png\" ALIGN=\"left\">"
   ]
  },
  {
   "cell_type": "markdown",
   "id": "9eec80ef",
   "metadata": {},
   "source": [
    "<hr>\n",
    "<b><font color='red'>Ejercicio 02</font></b>  \n",
    "\n",
    "A partir de (../07_Matplotlib/medida_H18.npz y ../07_Matplotlib/medida_M18.npz) crea los siguientes grágicos que se muestran a continuación."
   ]
  },
  {
   "cell_type": "code",
   "execution_count": 42,
   "id": "1349f555",
   "metadata": {},
   "outputs": [
    {
     "name": "stdout",
     "output_type": "stream",
     "text": [
      "se han cargado 4000 medidas de hombres 4000 medidas de mujeres\n"
     ]
    },
    {
     "data": {
      "text/plain": [
       "array([163.49141358, 153.85633621, 185.6741482 , ..., 167.87590432,\n",
       "       162.45971387, 154.23333584])"
      ]
     },
     "execution_count": 42,
     "metadata": {},
     "output_type": "execute_result"
    }
   ],
   "source": [
    "#primero cargamos los datos:\n",
    "\n",
    "data = np.load('../08_Matplotlib/medida_H18.npz')\n",
    "M_hombres=data['x']\n",
    "data = np.load('../08_Matplotlib/medida_M18.npz')\n",
    "M_mujeres=data['x']\n",
    "print(\"se han cargado\",len(M_hombres), \"medidas de hombres\",len(M_mujeres), \"medidas de mujeres\")\n",
    "M_mujeres"
   ]
  },
  {
   "cell_type": "code",
   "execution_count": 43,
   "id": "80cd8d84",
   "metadata": {
    "scrolled": true
   },
   "outputs": [
    {
     "data": {
      "text/plain": [
       "'Esribe tu código aquí'"
      ]
     },
     "execution_count": 43,
     "metadata": {},
     "output_type": "execute_result"
    }
   ],
   "source": [
    "#Busca en internet como cargar np.array en un dataframe y crea el siguiente dataframe\n",
    "\n",
    "\"\"\"Esribe tu código aquí\"\"\""
   ]
  },
  {
   "cell_type": "markdown",
   "id": "84d60479",
   "metadata": {},
   "source": [
    "<img src=\"e3_0.png\" ALIGN=\"left\">"
   ]
  },
  {
   "cell_type": "code",
   "execution_count": 44,
   "id": "4913a152",
   "metadata": {},
   "outputs": [
    {
     "data": {
      "text/plain": [
       "'Esribe tu código aquí'"
      ]
     },
     "execution_count": 44,
     "metadata": {},
     "output_type": "execute_result"
    }
   ],
   "source": [
    "#Utiliza el style=\"whitegrid\" para representar la siguiente gráfica\n",
    "\n",
    "\"\"\"Esribe tu código aquí\"\"\""
   ]
  },
  {
   "cell_type": "markdown",
   "id": "279b170d",
   "metadata": {},
   "source": [
    "<img src=\"e3_1.png\" ALIGN=\"left\">"
   ]
  },
  {
   "cell_type": "code",
   "execution_count": 45,
   "id": "14907ba7",
   "metadata": {},
   "outputs": [
    {
     "data": {
      "text/plain": [
       "'Esribe tu código aquí'"
      ]
     },
     "execution_count": 45,
     "metadata": {},
     "output_type": "execute_result"
    }
   ],
   "source": [
    "\"\"\"Esribe tu código aquí\"\"\""
   ]
  },
  {
   "cell_type": "markdown",
   "id": "e511a072",
   "metadata": {},
   "source": [
    "<img src=\"e3_2.png\" ALIGN=\"left\">"
   ]
  },
  {
   "cell_type": "code",
   "execution_count": 46,
   "id": "9d8b5078",
   "metadata": {},
   "outputs": [
    {
     "data": {
      "text/plain": [
       "'Esribe tu código aquí'"
      ]
     },
     "execution_count": 46,
     "metadata": {},
     "output_type": "execute_result"
    }
   ],
   "source": [
    "\"\"\"Esribe tu código aquí\"\"\""
   ]
  },
  {
   "cell_type": "markdown",
   "id": "c58d84d1",
   "metadata": {},
   "source": [
    "<img src=\"e3_3.png\" ALIGN=\"left\">"
   ]
  },
  {
   "cell_type": "code",
   "execution_count": 47,
   "id": "2bd0cb9f",
   "metadata": {},
   "outputs": [
    {
     "data": {
      "text/plain": [
       "'Esribe tu código aquí'"
      ]
     },
     "execution_count": 47,
     "metadata": {},
     "output_type": "execute_result"
    }
   ],
   "source": [
    "\"\"\"Esribe tu código aquí\"\"\""
   ]
  },
  {
   "cell_type": "markdown",
   "id": "df2a42b7",
   "metadata": {},
   "source": [
    "<img src=\"e3_4.png\" ALIGN=\"left\">"
   ]
  },
  {
   "cell_type": "code",
   "execution_count": 48,
   "id": "9c01e6a9",
   "metadata": {},
   "outputs": [
    {
     "data": {
      "text/plain": [
       "'Esribe tu código aquí'"
      ]
     },
     "execution_count": 48,
     "metadata": {},
     "output_type": "execute_result"
    }
   ],
   "source": [
    "\"\"\"Esribe tu código aquí\"\"\""
   ]
  },
  {
   "cell_type": "markdown",
   "id": "8280ab36",
   "metadata": {},
   "source": [
    "<img src=\"e3_5.png\" ALIGN=\"left\">"
   ]
  },
  {
   "cell_type": "code",
   "execution_count": 49,
   "id": "0462e83b",
   "metadata": {},
   "outputs": [
    {
     "data": {
      "text/plain": [
       "'Esribe tu código aquí'"
      ]
     },
     "execution_count": 49,
     "metadata": {},
     "output_type": "execute_result"
    }
   ],
   "source": [
    "\"\"\"Esribe tu código aquí\"\"\""
   ]
  },
  {
   "cell_type": "markdown",
   "id": "e1c58c3f",
   "metadata": {},
   "source": [
    "<img src=\"e3_6.png\" ALIGN=\"left\">"
   ]
  },
  {
   "cell_type": "markdown",
   "id": "acf7b3a3",
   "metadata": {},
   "source": [
    "<hr>\n",
    "<b><font color='red'>Ejercicio 03</font></b>  \n",
    "\n",
    "Analiza (../10_Pandas/super.cvs) con seaborn, almenos obten una gráfica con las correlaciones"
   ]
  },
  {
   "cell_type": "markdown",
   "id": "5972be06",
   "metadata": {},
   "source": [
    "<hr>\n",
    "<b><font color='red'>Ejercicio 04</font></b>  \n",
    "\n",
    "Vamos a repetir la caída de calor vista en la teoría con los siguientes cambios:"
   ]
  },
  {
   "cell_type": "code",
   "execution_count": 50,
   "id": "57c4356d",
   "metadata": {},
   "outputs": [
    {
     "data": {
      "text/plain": [
       "<AxesSubplot:>"
      ]
     },
     "execution_count": 50,
     "metadata": {},
     "output_type": "execute_result"
    },
    {
     "data": {
      "image/png": "[encoded data removed]",
      "text/plain": [
       "<Figure size 432x288 with 2 Axes>"
      ]
     },
     "metadata": {},
     "output_type": "display_data"
    }
   ],
   "source": [
    "N=40\n",
    "A = np.zeros([N,N])\n",
    "#Ahora ponemos dos focos de calor en las dos esquinas\n",
    "A[int(N/2),int(N/2+N/4)] =  100\n",
    "A[int(N/2),int(N/2-N/4)] =  100\n",
    "sns.heatmap(A, cmap = 'Reds', yticklabels=False, xticklabels=False)"
   ]
  },
  {
   "cell_type": "markdown",
   "id": "cc05eb07",
   "metadata": {},
   "source": [
    "Y utilizamos los 8 primeros vecinos, es decir:"
   ]
  },
  {
   "cell_type": "code",
   "execution_count": 51,
   "id": "eb69afca",
   "metadata": {},
   "outputs": [
    {
     "data": {
      "image/png": "[encoded data removed]",
      "text/plain": [
       "<Figure size 432x288 with 1 Axes>"
      ]
     },
     "metadata": {},
     "output_type": "display_data"
    }
   ],
   "source": [
    "import networkx as nx\n",
    "import matplotlib.pyplot as plt\n",
    "G = nx.DiGraph([(1, 2),(1, 2),(1, 3),(1, 4),(1, 5),(1, 6),(1, 7),(1, 8),(1, 9)])\n",
    "L=1.0\n",
    "pos = {1: (0, 0), 2: (L, 0), 3: (-L, 0), 4: (0,L), 5: (0,-L), 6: (-L,-L), 7: (L,-L), 8: (-L,L), 9: (L,L) }\n",
    "options = {\"font_size\": 12,\"node_size\": 600,\"node_color\": \"white\",\"edgecolors\": \"black\",\"linewidths\": 3,\"width\": 3,}\n",
    "nx.draw_networkx(G, pos, **options)\n",
    "plt.axis(\"off\")\n",
    "plt.show()"
   ]
  },
  {
   "cell_type": "code",
   "execution_count": 52,
   "id": "d2647774",
   "metadata": {},
   "outputs": [
    {
     "data": {
      "text/plain": [
       "'Esribe tu código aquí'"
      ]
     },
     "execution_count": 52,
     "metadata": {},
     "output_type": "execute_result"
    }
   ],
   "source": [
    "\"\"\"Esribe tu código aquí\"\"\""
   ]
  },
  {
   "cell_type": "markdown",
   "id": "4da448b6",
   "metadata": {},
   "source": [
    "<img src=\"dos.png\" ALIGN=\"left\">"
   ]
  },
  {
   "cell_type": "code",
   "execution_count": 53,
   "id": "88f11268",
   "metadata": {},
   "outputs": [
    {
     "data": {
      "text/plain": [
       "'Esribe tu código aquí'"
      ]
     },
     "execution_count": 53,
     "metadata": {},
     "output_type": "execute_result"
    }
   ],
   "source": [
    "\"\"\"Esribe tu código aquí\"\"\""
   ]
  },
  {
   "cell_type": "markdown",
   "id": "a1c5ec08",
   "metadata": {},
   "source": [
    "<img src=\"dos_3d.png\" ALIGN=\"left\">"
   ]
  }
 ],
 "metadata": {
  "kernelspec": {
   "display_name": "Python 3",
   "language": "python",
   "name": "python3"
  },
  "language_info": {
   "codemirror_mode": {
    "name": "ipython",
    "version": 3
   },
   "file_extension": ".py",
   "mimetype": "text/x-python",
   "name": "python",
   "nbconvert_exporter": "python",
   "pygments_lexer": "ipython3",
   "version": "3.8.10"
  }
 },
 "nbformat": 4,
 "nbformat_minor": 5
}
