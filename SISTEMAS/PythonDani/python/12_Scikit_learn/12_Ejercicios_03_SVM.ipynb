{
 "cells": [
  {
   "cell_type": "markdown",
   "id": "916911e5",
   "metadata": {},
   "source": [
    "<hr>\n",
    "<b><font color='red'>Ejercicio 01</font></b>  \n",
    "\n",
    "Entrena al modelo utilizando los 500, 200 y 20 primeros dígitos y pruebalo con los 200 siguientes, obten la matriz de confución para cada caso como se muestra a continuación:\n",
    "<img src=\"digit.png\" ALIGN=\"left\">"
   ]
  },
  {
   "cell_type": "markdown",
   "id": "dad6de16",
   "metadata": {},
   "source": [
    "<hr>\n",
    "<b><font color='red'>Ejercicio 02</font></b>  \n",
    "\n",
    "Entrena al modelo utilizando los 100, 1000 y 5000 primeras fotos,  pruebalo con 200 siguientes, obten la matriz de confusión para cada caso como se muestra a continuación:\n",
    "\n",
    "<img src=\"conf_imag.png\" ALIGN=\"alignleft size-full\">\n",
    "\n",
    "Ten en cuenta que este ejemplo ha sido hecho con 500,5000 y 50000 fotos"
   ]
  },
  {
   "cell_type": "code",
   "execution_count": null,
   "id": "fbee8ca7",
   "metadata": {},
   "outputs": [],
   "source": []
  }
 ],
 "metadata": {
  "kernelspec": {
   "display_name": "Python 3",
   "language": "python",
   "name": "python3"
  },
  "language_info": {
   "codemirror_mode": {
    "name": "ipython",
    "version": 3
   },
   "file_extension": ".py",
   "mimetype": "text/x-python",
   "name": "python",
   "nbconvert_exporter": "python",
   "pygments_lexer": "ipython3",
   "version": "3.8.10"
  }
 },
 "nbformat": 4,
 "nbformat_minor": 5
}
