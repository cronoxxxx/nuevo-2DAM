{
 "cells": [
  {
   "cell_type": "markdown",
   "id": "c49747de",
   "metadata": {},
   "source": [
    "<hr>\n",
    "<b><font color='red'>Ejercicio 01</font></b> \n",
    "\n",
    "El método **Montecarlo** es un método no determinista o estadístico numérico, usado para aproximar expresiones matemáticas complejas y costosas de evaluar con exactitud. El método se llamó así en referencia al Casino de Montecarlo (Mónaco) por ser “la capital del juego de azar”, al ser la ruleta un generador simple de números aleatorios. El nombre y el desarrollo sistemático de los métodos de Montecarlo datan aproximadamente de 1944 testee combinaciones posibles.\n",
    "\n",
    "Vamos a calcular el valor de $\\pi$, para ello, si $X$ e $Y$ son dos variables aleatorias continuas uniformes en el intervalo (-1,1) y son independientes.  \n",
    "$\\pi$ Vendrá dada por la probabilidad de que $X^2 + Y^2  \\leq 1$, es decir:  \n",
    "$$\\pi = \\frac{4*\\text{nº puntos que caén dentro}}{\\text{nº total de intentos}}$$ \n",
    "Obten tambien una gráfica como la que se muestra a continuación."
   ]
  },
  {
   "cell_type": "code",
   "execution_count": 11,
   "id": "c5958c67",
   "metadata": {
    "scrolled": true
   },
   "outputs": [
    {
     "data": {
      "text/plain": [
       "'Esribe tu código aquí'"
      ]
     },
     "execution_count": 11,
     "metadata": {},
     "output_type": "execute_result"
    }
   ],
   "source": [
    "N=10000 #número de intentos\n",
    "#ayuda plt.figure(figsize=(8,8))\n",
    "\"\"\"Esribe tu código aquí\"\"\""
   ]
  },
  {
   "cell_type": "markdown",
   "id": "b8a29ca0",
   "metadata": {},
   "source": [
    "<img src=\"f6.png\">  "
   ]
  },
  {
   "cell_type": "markdown",
   "id": "12ffcae9",
   "metadata": {},
   "source": [
    "<hr>\n",
    "<b><font color='red'>Ejercicio 02</font></b> \n",
    "\n",
    "Crea un histograma en que se vea la distribución que saldría al sumar dos dados, tiene que verse una gráfica como la que se muestra a continuación"
   ]
  },
  {
   "cell_type": "code",
   "execution_count": 12,
   "id": "8a2648fb",
   "metadata": {},
   "outputs": [
    {
     "data": {
      "text/plain": [
       "'Esribe tu código aquí'"
      ]
     },
     "execution_count": 12,
     "metadata": {},
     "output_type": "execute_result"
    }
   ],
   "source": [
    "\"\"\"Esribe tu código aquí\"\"\""
   ]
  },
  {
   "cell_type": "markdown",
   "id": "047f8814",
   "metadata": {},
   "source": [
    "<img src=\"f7.png\">  "
   ]
  },
  {
   "cell_type": "markdown",
   "id": "4ff1966d",
   "metadata": {},
   "source": [
    "<hr>\n",
    "<b><font color='red'>Ejercicio 03</font></b> \n",
    "\n",
    "Al implementar MD5, obtendremos como resultado, una cadena alfanumérica de 32 caracteres hexadecimales. Ocupando siempre 16 Bytes de memoria. \n",
    "\n",
    "El siguiente pin = '4aca32b706287f13903f08b7aab38f79', ha sido codificado con md5 \"hashlib.md5(b'****')\", para ello han utilizado dos carácteres en mayúsculas ('ABCDEF')  y dos números (0-9) , haz una función que obtenga el pin descodificado utilizando random.\n",
    "\n",
    "¿Cuántos intentos ha relizado hasta que la ha descubierto?\n",
    "Realiza el ejercicio varias veces y haz un histograma.\n",
    "\n"
   ]
  },
  {
   "cell_type": "code",
   "execution_count": 13,
   "id": "cde21e23",
   "metadata": {},
   "outputs": [
    {
     "data": {
      "text/plain": [
       "'Esribe tu código aquí'"
      ]
     },
     "execution_count": 13,
     "metadata": {},
     "output_type": "execute_result"
    }
   ],
   "source": [
    "\"\"\"Esribe tu código aquí\"\"\""
   ]
  },
  {
   "cell_type": "markdown",
   "id": "b62ff5a9",
   "metadata": {},
   "source": [
    "<hr>\n",
    "<b><font color='red'>Ejercicio 04</font></b>  \n",
    "\n",
    "<img src=\"ruleta.png\"> \n",
    "\n",
    "La ruleta europea tiene 37 números, de los cuales 18 son rojos, 18 negros y el 0, que es verde, entre las diversas apuestas existe la de de apostar todo a rojos o negros, en este caso si se gana, se ganaría lo mismo que se ha apostado.\n",
    "\n",
    "Haz la siguiente simulación, empezando con una cantidad de 1000 euros, apostando de forma constante 50 Euros, haz que la maquina apueste siempre a los pares o a los impares, en ambos casos si sale 0 se perderia lo apostado.\n"
   ]
  },
  {
   "cell_type": "code",
   "execution_count": null,
   "id": "845f6811",
   "metadata": {},
   "outputs": [],
   "source": []
  },
  {
   "cell_type": "markdown",
   "id": "e367ee8f",
   "metadata": {},
   "source": [
    "<hr>\n",
    "<b><font color='red'>Ejercicio 05</font></b>  \n",
    "\n",
    "Utiliza 10 jugadores y haz el promedio de veces en lo que tardarían en arruinarse"
   ]
  },
  {
   "cell_type": "code",
   "execution_count": null,
   "id": "a1857a22",
   "metadata": {},
   "outputs": [],
   "source": []
  },
  {
   "cell_type": "markdown",
   "id": "2717ecda",
   "metadata": {},
   "source": [
    "<hr>\n",
    "<b><font color='red'>Ejercicio 06</font></b>  \n",
    "\n",
    "Obten la siguiente evolución respecto el número de jugadores:\n",
    "\n",
    "    print(\"%6d\" % njugadores,\"%.1f\" % a.mean(),\"%.0f\"%a.std())\n",
    "        10 636.8 624\n",
    "        20 603.0 799\n",
    "        50 799.2 875\n",
    "       100 558.1 500\n",
    "       200 921.6 1236\n",
    "       500 744.2 936\n",
    "      1000 726.1 1021\n",
    "      5000 734.3 967\n",
    "     10000 734.5 1021\n"
   ]
  },
  {
   "cell_type": "code",
   "execution_count": null,
   "id": "608c82d0",
   "metadata": {},
   "outputs": [],
   "source": []
  },
  {
   "cell_type": "markdown",
   "id": "7edebc64",
   "metadata": {},
   "source": [
    "<hr>\n",
    "<b><font color='red'>Ejercicio 07</font></b>  \n",
    "\n",
    "Empezamos con el problema del viajante, (Travelling Salesman Problem) responde a la siguiente pregunta: dada una lista de ciudades y las distancias entre cada par de ellas, ¿cuál es la ruta más corta posible que visita cada ciudad exactamente una vez y al finalizar regresa a la ciudad origen? Este es un problema NP-Hard dentro en la optimización combinatoria, muy importante en investigación operativa y en ciencias de la computación. \n",
    "En el siguiente problema partiendo de Madrid tenemos que pasar por las siguientes ciudades"
   ]
  },
  {
   "cell_type": "code",
   "execution_count": 14,
   "id": "d95fc0a1",
   "metadata": {},
   "outputs": [
    {
     "data": {
      "application/vnd.jupyter.widget-view+json": {
       "model_id": "b3e08daab9e1447c8ebf6c0736c41552",
       "version_major": 2,
       "version_minor": 0
      },
      "text/plain": [
       "Map(center=[40.4950873744, -3.71704619215], controls=(ZoomControl(options=['position', 'zoom_in_text', 'zoom_i…"
      ]
     },
     "metadata": {},
     "output_type": "display_data"
    }
   ],
   "source": [
    "from ipyleaflet import Map, Polyline\n",
    "from ipyleaflet import Map, basemaps, basemap_to_tiles, Circle\n",
    "\n",
    "\n",
    "ciudad = [[40.4950873744,-3.71704619215],\n",
    "[41.6207742504,-2.58874304739],\n",
    "[38.4786378049,-0.568699068376],\n",
    "[42.0439686698,1.04798206104],\n",
    "[36.5538729195,-5.7604183752],\n",
    "[40.8049892162,-6.06541224773],\n",
    "[42.435764706,-8.46106294738],\n",
    "[38.0165122783,-3.44169215171],\n",
    "[41.6203648019,-1.06449678144],\n",
    "[42.1280117119,2.6735559327],\n",
    "[43.292357861,-5.99350932547]]\n",
    " \n",
    "line = Polyline(\n",
    "    locations=ciudad,\n",
    "    color=\"blue\" ,\n",
    "    weight = 2,\n",
    "    fill=False\n",
    ")\n",
    "c=ciudad[0]\n",
    "m = Map(center = ciudad[0], zoom =5.4)\n",
    "for i in ciudad:\n",
    "    circle = Circle()\n",
    "    circle.location = i\n",
    "    circle.radius = 5000\n",
    "    circle.color = \"blue\"\n",
    "    circle.fill_color = \"blue\"\n",
    "    m.add_layer(circle)\n",
    "m.add_layer(line)\n",
    "m"
   ]
  },
  {
   "cell_type": "markdown",
   "id": "7d06bd75",
   "metadata": {},
   "source": [
    "Crea una función que obtenga el recorrido realizado, testeala con el orden actual de ciudades \n",
    "\n",
    "    sol : d = 435.6697061255633"
   ]
  },
  {
   "cell_type": "code",
   "execution_count": 15,
   "id": "019191e4",
   "metadata": {},
   "outputs": [
    {
     "data": {
      "text/plain": [
       "'Esribe tu código aquí'"
      ]
     },
     "execution_count": 15,
     "metadata": {},
     "output_type": "execute_result"
    }
   ],
   "source": [
    "\"\"\"Esribe tu código aquí\"\"\""
   ]
  },
  {
   "cell_type": "markdown",
   "id": "2e5af018",
   "metadata": {},
   "source": [
    "Haz un algoritmo que utilice el **método montecarlo**, para este problema haz que desde desde la ciudad[0] se minimice la distancia recorrida, utilizalo con almenos 1000000 permutaciones aleatorias para mejorar el recorrido."
   ]
  },
  {
   "cell_type": "code",
   "execution_count": 16,
   "id": "42805f39",
   "metadata": {},
   "outputs": [
    {
     "data": {
      "text/plain": [
       "'Esribe tu código aquí'"
      ]
     },
     "execution_count": 16,
     "metadata": {},
     "output_type": "execute_result"
    }
   ],
   "source": [
    "\"\"\"Esribe tu código aquí\"\"\""
   ]
  },
  {
   "cell_type": "markdown",
   "id": "f4c8f3cd",
   "metadata": {},
   "source": [
    "Utiliza itertools para generar todas las permutaciones y obtener la solución"
   ]
  },
  {
   "cell_type": "markdown",
   "id": "7036effc",
   "metadata": {},
   "source": [
    "<img src=\"permutations_ciudades.png\">  "
   ]
  },
  {
   "cell_type": "code",
   "execution_count": 17,
   "id": "107a28c1",
   "metadata": {},
   "outputs": [
    {
     "data": {
      "text/plain": [
       "'Esribe tu código aquí'"
      ]
     },
     "execution_count": 17,
     "metadata": {},
     "output_type": "execute_result"
    }
   ],
   "source": [
    "\"\"\"Esribe tu código aquí\"\"\"\n",
    "#sol d = 434.64381367718534"
   ]
  }
 ],
 "metadata": {
  "kernelspec": {
   "display_name": "Python 3",
   "language": "python",
   "name": "python3"
  },
  "language_info": {
   "codemirror_mode": {
    "name": "ipython",
    "version": 3
   },
   "file_extension": ".py",
   "mimetype": "text/x-python",
   "name": "python",
   "nbconvert_exporter": "python",
   "pygments_lexer": "ipython3",
   "version": "3.8.10"
  }
 },
 "nbformat": 4,
 "nbformat_minor": 5
}
