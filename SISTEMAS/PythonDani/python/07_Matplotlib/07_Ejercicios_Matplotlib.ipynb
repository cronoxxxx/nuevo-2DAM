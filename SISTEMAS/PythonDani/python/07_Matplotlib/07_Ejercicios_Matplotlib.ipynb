{
 "cells": [
  {
   "cell_type": "markdown",
   "id": "af8d74a6",
   "metadata": {},
   "source": [
    "<hr>\n",
    "<b><font color='red'>Ejercicio 01</font></b>  \n",
    "\n",
    "Representa la función $\\frac{D}{(x^2+1)}$ , donde D es el día de tu cumpleaños  \n",
    "Hazque el título sea tenga una fuente: serif de color blue y tamaño 16\n",
    "\n",
    "<img src=\"f1.png\" ALIGN=\"left\">\n"
   ]
  },
  {
   "cell_type": "code",
   "execution_count": 1,
   "id": "115a3f60",
   "metadata": {},
   "outputs": [
    {
     "data": {
      "text/plain": [
       "'Esribe tu código aquí'"
      ]
     },
     "execution_count": 1,
     "metadata": {},
     "output_type": "execute_result"
    }
   ],
   "source": [
    "\"\"\"Esribe tu código aquí\"\"\""
   ]
  },
  {
   "cell_type": "markdown",
   "id": "6bf44969",
   "metadata": {},
   "source": [
    "<hr>\n",
    "<b><font color='red'>Ejercicio 02</font></b>  \n",
    "\n",
    "Representa también la función con D/2, busca y representa también como poner las barras verticales y horizontales\n",
    "\n",
    "<img src=\"f2.png\" ALIGN=\"left\">"
   ]
  },
  {
   "cell_type": "code",
   "execution_count": 2,
   "id": "85ca6d2f",
   "metadata": {},
   "outputs": [
    {
     "data": {
      "text/plain": [
       "'Esribe tu código aquí'"
      ]
     },
     "execution_count": 2,
     "metadata": {},
     "output_type": "execute_result"
    }
   ],
   "source": [
    "\"\"\"Esribe tu código aquí\"\"\""
   ]
  },
  {
   "cell_type": "markdown",
   "id": "981c8cc9",
   "metadata": {},
   "source": [
    "<hr>\n",
    "<b><font color='red'>Ejercicio 03</font></b>  \n",
    "\n",
    "Representa la función $\\frac{1}{1+e^{-x}}$\n",
    "\n",
    "<img src=\"sigmoide.png\" ALIGN=\"left\">"
   ]
  },
  {
   "cell_type": "markdown",
   "id": "1003db72",
   "metadata": {},
   "source": [
    "<hr>\n",
    "<b><font color='red'>Ejercicio 04</font></b>  \n",
    "\n",
    "Se han tomado 4000 medidas en una pequeña población, una vez cargados los datos representa las siguientes gráficas \n",
    "<img src=\"f3.png\">  \n",
    "<img src=\"f4.png\">  \n",
    "<img src=\"f5.png\">  \n",
    "ayuda: axvspan, vlines"
   ]
  },
  {
   "cell_type": "code",
   "execution_count": 1,
   "id": "42be1960",
   "metadata": {},
   "outputs": [
    {
     "name": "stdout",
     "output_type": "stream",
     "text": [
      "se han cargado 4000 medidas de hombres 4000 medidas de mujeres\n"
     ]
    }
   ],
   "source": [
    "import numpy as np\n",
    "data = np.load('medida_H18.npz')\n",
    "M_hombres=data['x']\n",
    "data = np.load('medida_M18.npz')\n",
    "M_mujeres=data['x']\n",
    "print(\"se han cargado\",len(M_hombres), \"medidas de hombres\",len(M_mujeres), \"medidas de mujeres\")\n"
   ]
  },
  {
   "cell_type": "code",
   "execution_count": 2,
   "id": "67e355fe",
   "metadata": {},
   "outputs": [
    {
     "data": {
      "text/plain": [
       "'Esribe tu código aquí'"
      ]
     },
     "execution_count": 2,
     "metadata": {},
     "output_type": "execute_result"
    }
   ],
   "source": [
    "\"\"\"Esribe tu código aquí\"\"\""
   ]
  },
  {
   "cell_type": "markdown",
   "id": "3302eb6a",
   "metadata": {},
   "source": [
    "<hr>\n",
    "<b><font color='red'>Ejercicio 05</font></b>  \n",
    "\n",
    "Haz la gráfica del analisis de frecuencias realizado del archivo \"../04_RW/el_quijote.txt\"  \n",
    "tienes que obtener la siguiente gráfica:  \n",
    "<img src=\"f6.png\" ALIGN=\"left\">"
   ]
  },
  {
   "cell_type": "code",
   "execution_count": null,
   "id": "e7339b12",
   "metadata": {},
   "outputs": [],
   "source": [
    "\"\"\"Esribe tu código aquí\"\"\""
   ]
  },
  {
   "cell_type": "code",
   "execution_count": null,
   "id": "6b1d3d0b",
   "metadata": {},
   "outputs": [],
   "source": []
  }
 ],
 "metadata": {
  "kernelspec": {
   "display_name": "Python 3",
   "language": "python",
   "name": "python3"
  },
  "language_info": {
   "codemirror_mode": {
    "name": "ipython",
    "version": 3
   },
   "file_extension": ".py",
   "mimetype": "text/x-python",
   "name": "python",
   "nbconvert_exporter": "python",
   "pygments_lexer": "ipython3",
   "version": "3.8.10"
  }
 },
 "nbformat": 4,
 "nbformat_minor": 5
}
