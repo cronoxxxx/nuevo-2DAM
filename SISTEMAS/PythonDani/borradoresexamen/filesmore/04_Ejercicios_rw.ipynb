{
 "cells": [
  {
   "cell_type": "markdown",
   "id": "01431782",
   "metadata": {},
   "source": [
    "<hr>\n",
    "<b><font color='red'>Ejercicio 01</font></b>  \n",
    "\n",
    "Lee el archivo.txt "
   ]
  },
  {
   "cell_type": "code",
   "execution_count": 2,
   "id": "89a53994",
   "metadata": {},
   "outputs": [
    {
     "name": "stdout",
     "output_type": "stream",
     "text": [
      "1 2\n",
      "2 4\n",
      "3 6\n",
      "4 8\n"
     ]
    },
    {
     "data": {
      "text/plain": [
       "'Esribe tu código aquí'"
      ]
     },
     "execution_count": 2,
     "metadata": {},
     "output_type": "execute_result"
    }
   ],
   "source": [
    "archivo=\"archivo.txt\"\n",
    "with open (archivo,'r') as file:\n",
    "    lineas = file.readlines()\n",
    "\n",
    "for linea in lineas:\n",
    "    print(linea.strip())\n",
    "\"\"\"Esribe tu código aquí\"\"\""
   ]
  },
  {
   "cell_type": "markdown",
   "id": "abf12d77",
   "metadata": {},
   "source": [
    "y haz que tenga la siguiente salida:\n",
    "\n",
    "    1.0   2.00  \n",
    "    2.0   4.00  \n",
    "    3.0   6.00  \n",
    "    4.0   8.00  \n"
   ]
  },
  {
   "cell_type": "markdown",
   "id": "e822cc55",
   "metadata": {},
   "source": [
    "<hr>\n",
    "<b><font color='red'>Ejercicio 02</font></b>  "
   ]
  },
  {
   "cell_type": "markdown",
   "id": "db1ab0a6",
   "metadata": {},
   "source": [
    "Haz lo mismo con el archvo archivo_error.txt,con ciddado de que a este archivo le falta algún dato, haz que en ese caso cuando lo lea, si no hay dos columnas no lo escriba."
   ]
  },
  {
   "cell_type": "code",
   "execution_count": 8,
   "id": "f87a2f49",
   "metadata": {},
   "outputs": [
    {
     "name": "stdout",
     "output_type": "stream",
     "text": [
      "1 2\n",
      "3 6\n",
      "4 8\n"
     ]
    }
   ],
   "source": [
    "\"\"\"Esribe tu código aquí\"\"\"\n",
    "with open ('archivo_error.txt','r') as file:\n",
    "    lineas = file.readlines()\n",
    "\n",
    "for linea in lineas:\n",
    "    columnas = linea.strip().split()\n",
    "    if len(columnas)==2:\n",
    "        print(linea.strip())"
   ]
  },
  {
   "cell_type": "markdown",
   "id": "9f77bb7c",
   "metadata": {},
   "source": [
    "<hr>\n",
    "<b><font color='red'>Ejercicio 03</font></b>  "
   ]
  },
  {
   "cell_type": "markdown",
   "id": "e1334eb4",
   "metadata": {},
   "source": [
    "Lee el archivo.txt, haz que imprima las columnas en las filas y las filas en las columnas"
   ]
  },
  {
   "cell_type": "code",
   "execution_count": 11,
   "id": "660b829b",
   "metadata": {},
   "outputs": [
    {
     "name": "stdout",
     "output_type": "stream",
     "text": [
      "1 2 3 4\n",
      "2 4 6 8\n"
     ]
    }
   ],
   "source": [
    "\"\"\"Esribe tu código aquí\"\"\"\n",
    "with open ('archivo.txt','r') as file:\n",
    "    lineas = file.readlines()\n",
    "datos = []\n",
    "for linea in lineas:\n",
    "    datos.append(linea.strip().split())\n",
    "max_columnas = 0\n",
    "for fila in datos:\n",
    "    max_columnas = max(max_columnas,len(fila))\n",
    "traspuesta=[]\n",
    "for i in range(max_columnas):\n",
    "    nueva_fila=[]\n",
    "    for j in range(len(datos)):\n",
    "        if i < len(datos[j]):\n",
    "            nueva_fila.append(datos[j][i])\n",
    "        else:\n",
    "            nueva_fila.append(' ')\n",
    "    traspuesta.append(nueva_fila)\n",
    "\n",
    "for fila in traspuesta:\n",
    "    print(' '.join(fila))\n",
    "\n",
    "    "
   ]
  },
  {
   "cell_type": "markdown",
   "id": "171179c2",
   "metadata": {},
   "source": [
    "1. Escribe en un archivo la siguiente matriz:\n",
    "$\n",
    "\\begin{equation}\n",
    "\\begin{pmatrix}\n",
    "3 & 1 & 3\\\\\n",
    "-1 & 1 & 0\\\\\n",
    "-2 & 4 & 1\n",
    "\\end{pmatrix}\n",
    "\\end{equation} \n",
    "$\n",
    "2. Lee el archivo\n",
    "3. Calcula con los datos leidos el determinante de la matriz y lo saque por pantalla"
   ]
  },
  {
   "cell_type": "markdown",
   "id": "0e5c0c6f",
   "metadata": {},
   "source": [
    "<hr>\n",
    "<b><font color='red'>Ejercicio 04</font></b>  "
   ]
  },
  {
   "cell_type": "code",
   "execution_count": 1,
   "id": "6f82b277",
   "metadata": {},
   "outputs": [
    {
     "name": "stdout",
     "output_type": "stream",
     "text": [
      "El determinante de la matriz es: -2.000000000000001\n"
     ]
    }
   ],
   "source": [
    "import numpy as np\n",
    "\n",
    "with open('matriz.txt','w') as file:\n",
    "    file.write('3 1 3\\n')\n",
    "    file.write('-1 1 0\\n')\n",
    "    file.write('-2 4 1\\n')\n",
    "\n",
    "with open ('matriz.txt','r') as file:\n",
    "    lineas = file.readlines()\n",
    "\n",
    "matriz = []\n",
    "\n",
    "for linea in lineas:\n",
    "    fila = list(map(int,linea.strip().split()))\n",
    "    matriz.append(fila)\n",
    "\n",
    "matriz_np = np.array(matriz)\n",
    "determinante = np.linalg.det(matriz_np)\n",
    "\n",
    "print(f'El determinante de la matriz es: {determinante}')\n",
    "    "
   ]
  },
  {
   "cell_type": "markdown",
   "id": "8e47f147",
   "metadata": {},
   "source": [
    "<hr>\n",
    "<b><font color='red'>Ejercicio 05</font></b>  "
   ]
  },
  {
   "cell_type": "markdown",
   "id": "888503ef",
   "metadata": {},
   "source": [
    "En el criptoanálisis, la técnica de análisis de frecuencias consiste en el aprovechamiento de estudios sobre la frecuencia de las letras o grupos de letras en los idiomas para poder establecer hipótesis para aprovecharlas para poder descifrar un texto cifrado sin tener la clave de descifrado (romper). Es un método típico para romper cifrados clásicos. \n",
    "Haz una anailisis de frecuencias para los 10 primeros càpitulos de el libro \"el_quijote.txt\""
   ]
  },
  {
   "cell_type": "code",
   "execution_count": 13,
   "id": "a2972ed0",
   "metadata": {},
   "outputs": [
    {
     "name": "stdout",
     "output_type": "stream",
     "text": [
      "Salida:\n",
      "A   0.127\n",
      "B   0.017\n",
      "C   0.037\n",
      "D   0.053\n",
      "E   0.138\n",
      "F   0.005\n",
      "G   0.011\n",
      "H   0.012\n",
      "I   0.053\n",
      "J   0.007\n",
      "K   0.000\n",
      "L   0.060\n",
      "M   0.026\n",
      "N   0.066\n",
      "Ñ   0.000\n",
      "O   0.099\n",
      "P   0.021\n",
      "Q   0.019\n",
      "R   0.061\n",
      "S   0.073\n",
      "T   0.037\n",
      "U   0.048\n",
      "V   0.011\n",
      "W   0.000\n",
      "X   0.000\n",
      "Y   0.015\n",
      "Z   0.004\n"
     ]
    }
   ],
   "source": [
    "import re\n",
    "\n",
    "# Leer el archivo\n",
    "with open(\"el_quijote.txt\", 'r', encoding='utf-8') as file:\n",
    "    contenido = file.read()\n",
    "\n",
    "# Extraer los 10 primeros capítulos (asumiendo que están marcados con \"Capítulo\")\n",
    "capitulos = re.split(r'Capítulo [IVXLCDM]+', contenido)\n",
    "texto = ''.join(capitulos[:11])  # Incluimos el texto antes del primer capítulo\n",
    "\n",
    "# Limpiar el texto y convertir a mayúsculas\n",
    "texto_limpio = re.sub(r'[^A-ZÑ]', '', texto.upper())\n",
    "\n",
    "# Inicializar diccionario de frecuencias\n",
    "frecuencias = {}\n",
    "for letra in \"ABCDEFGHIJKLMNÑOPQRSTUVWXYZ\":\n",
    "    frecuencias[letra] = 0\n",
    "\n",
    "# Contar frecuencias\n",
    "total_letras = 0\n",
    "for letra in texto_limpio:\n",
    "    frecuencias[letra] += 1\n",
    "    total_letras += 1\n",
    "\n",
    "# Calcular frecuencias relativas\n",
    "for letra in frecuencias:\n",
    "    frecuencias[letra] /= total_letras\n",
    "\n",
    "# Mostrar resultados\n",
    "print(\"Salida:\")\n",
    "for letra in \"ABCDEFGHIJKLMNÑOPQRSTUVWXYZ\":\n",
    "    print(f\"{letra}   {frecuencias[letra]:.3f}\")\n",
    "    \n",
    "    \n",
    "\n",
    "#for i in abc:\n",
    "#    print(\"%.2c  \" % i,\"%.3f\" % f[(abc.index(i))])"
   ]
  },
  {
   "cell_type": "markdown",
   "id": "01aa879d",
   "metadata": {},
   "source": [
    "Salida:\n",
    "\n",
    "    A   0.127\n",
    "    B   0.017\n",
    "    C   0.037\n",
    "    D   0.053\n",
    "    E   0.138\n",
    "    F   0.005\n",
    "    .\n",
    "    .\n",
    "    ."
   ]
  },
  {
   "cell_type": "markdown",
   "id": "650d9ffa",
   "metadata": {},
   "source": [
    "<hr>\n",
    "<b><font color='red'>Ejercicio 06</font></b>  "
   ]
  },
  {
   "cell_type": "markdown",
   "id": "b8ac0b0a",
   "metadata": {},
   "source": [
    "haz un analisis de frecuencias en el libro encriptado \"RH RQCEPESEFM AR MPM.txt\", y comparala con el analisis anterior\n"
   ]
  },
  {
   "cell_type": "code",
   "execution_count": 5,
   "id": "71245e32",
   "metadata": {},
   "outputs": [
    {
     "data": {
      "text/plain": [
       "'Esribe tu código aquí'"
      ]
     },
     "execution_count": 5,
     "metadata": {},
     "output_type": "execute_result"
    }
   ],
   "source": [
    "abc=\"ABCDEFGHIJKLMNÑOPQRSTUVWXYZ\"\n",
    "archivo=\"RH RQCEPESEFM AR MPM.txt\"\n",
    "\n",
    "\"\"\"Esribe tu código aquí\"\"\"\n",
    "    \n",
    "#print(\"el_quijote.txt\",\"  RH RQCEPESEFM AR MPM.txt\")    \n",
    "#for i in abc:\n",
    "#    print(\"%.2c  \" % i,\"%.3f\" % f[(abc.index(i))],\"       %.2c  \" % i,\"%.3f\" % f2[(abc.index(i))])"
   ]
  },
  {
   "cell_type": "markdown",
   "id": "d656e5ea",
   "metadata": {},
   "source": [
    "salida:\n",
    "\n",
    "    el_quijote.txt   RH RQCEPESEFM AR MPM.txt\n",
    "    A   0.127        A   0.049\n",
    "    B   0.017        B   0.006\n",
    "    C   0.037        C   0.040\n",
    "    .                .\n",
    "    .                .\n",
    "    .                ."
   ]
  },
  {
   "cell_type": "markdown",
   "id": "81665cdb",
   "metadata": {},
   "source": [
    "<hr>\n",
    "<b><font color='red'>Ejercicio 07</font></b>  \n",
    "\n",
    "Comparando el analisis de frecuencia sabrías decir cual es el titulo del libro.  \n",
    "RH RQCEPESEFM AR MPM"
   ]
  },
  {
   "cell_type": "markdown",
   "id": "3a97d8ff",
   "metadata": {},
   "source": []
  }
 ],
 "metadata": {
  "kernelspec": {
   "display_name": "Python 3 (ipykernel)",
   "language": "python",
   "name": "python3"
  },
  "language_info": {
   "codemirror_mode": {
    "name": "ipython",
    "version": 3
   },
   "file_extension": ".py",
   "mimetype": "text/x-python",
   "name": "python",
   "nbconvert_exporter": "python",
   "pygments_lexer": "ipython3",
   "version": "3.12.7"
  }
 },
 "nbformat": 4,
 "nbformat_minor": 5
}
