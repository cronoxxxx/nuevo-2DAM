{
 "cells": [
  {
   "cell_type": "markdown",
   "id": "5de198f3",
   "metadata": {},
   "source": [
    "<hr>\n",
    "<b><font color='red'>Ejercicio 01</font></b>  \n",
    "\n",
    "- __La media__, es el promedio  \n",
    "$$\\mu = \\frac{1}{N}\\sum_{i=1}^{N} x_i$$\n",
    "- __La desviación estandar__ es una medida que se utiliza para cuantificar la variación o la dispersión de un conjunto de datos numéricos  \n",
    "$$\\sigma = \\sqrt{\\frac{1}{N}\\sum_{i=1}^{N} ( \\mu  - x_i )^{2}} $$\n",
    "Crea una función que te devuelva la media y la desviación estándar de una lista ordenada.  \n",
    "Pruébalo con lista = [4, 1, 11, 13, 2, 7]  \n",
    "ayuda : https://es.wikipedia.org/wiki/Desviaci%C3%B3n_t%C3%ADpica\n"
   ]
  },
  {
   "cell_type": "code",
   "execution_count": 6,
   "id": "1e17a159",
   "metadata": {},
   "outputs": [
    {
     "name": "stdout",
     "output_type": "stream",
     "text": [
      "[4, 1, 11, 13, 2, 7]\n",
      "media = 19.0 ± 4.459696053419884\n"
     ]
    }
   ],
   "source": [
    "import math\n",
    "\n",
    "def media(l):\n",
    "    return sum(l)/len(l)  \n",
    "\n",
    "def DES(l):\n",
    "    res = media(l)\n",
    "    variance = sum((x-res)**2 for x in l)/len(l)\n",
    "    return math.sqrt(variance)\n",
    "\n",
    "lista = [4, 1, 11, 13, 2, 7]\n",
    "print(lista)\n",
    "print(\"media = \"+str(media(lista))+\" \\u00B1 \"+str(DES(lista)))"
   ]
  },
  {
   "cell_type": "markdown",
   "id": "f329a7fa",
   "metadata": {},
   "source": [
    "<hr>\n",
    "<b><font color='red'>Ejercicio 02 </font></b>  \n",
    "    \n",
    "En matemática, la sucesión o __serie de Fibonacci__ es la siguiente sucesión infinita de números naturales:  \n",
    "0 , 1 , 1 , 2 , 3 , 5 , 8 , 13 , 21 , 34 , 55 , 89 , 144 , 233 , 377 , 610 , 987 , 1597  \n",
    "Crea una función que te devuelva la serie de Fibonacci hasta un número dado"
   ]
  },
  {
   "cell_type": "code",
   "execution_count": 9,
   "id": "29c01ca4",
   "metadata": {},
   "outputs": [
    {
     "name": "stdout",
     "output_type": "stream",
     "text": [
      "[1, 2, 3, 5, 8, 13, 21, 34, 55, 89]\n"
     ]
    }
   ],
   "source": [
    "def fibonacci(n):\n",
    "    a = 0\n",
    "    b = 1\n",
    "    c = 0\n",
    "    fibo= []\n",
    "    for i in range(n):\n",
    "        c = a + b\n",
    "        a = b\n",
    "        b = c\n",
    "        fibo.append(c)\n",
    "    print(fibo)    \n",
    "\n",
    "fibonacci(10)"
   ]
  },
  {
   "cell_type": "markdown",
   "id": "f254e5ed",
   "metadata": {},
   "source": [
    "<hr>\n",
    "<b><font color='red'>Ejercicio 03</font></b>  \n",
    "\n",
    "Cuenta que, cuando Julio César escribía sus mensajes, reemplazaba cada letra por la que estaba tres lugares más adelante en el alfabeto. Es decir,\n",
    "\"césar\" pasaba a ser \"FHVDU\", crea una función llamada Julio_Cesar que encripte los mensajes de entrada de la siguiente forma:\n",
    "- Pasa las palabras a mayúsculas\n",
    "- Quita los acentos Á -> A, etc ..\n",
    "- Cambia solo ABCDEFGHIJKLMNÑOPQRSTUVWXYZ\n"
   ]
  },
  {
   "cell_type": "markdown",
   "id": "b8b59b29",
   "metadata": {},
   "source": [
    "<hr>\n",
    "<b><font color='red'>Ejercicio 04</font></b>  \n",
    "\n",
    "El cifrado con clave, hay algunas formas de mejorar el método de Julio Cesar sin complicarlo demasiado, por ejemplo elegir una palabra clave con todas sus letras diferentes, supongamos que elegimos TUNOMBRE. Escribimos entonces el alfabeto normal junto con el transformado siguiente:\n",
    "\n",
    "    abc=\"ABCDEFGHIJKLMNÑOPQRSTUVWXYZ\"\n",
    "    ABC=\"TUNOMBREACDFGHIJKLÑOPQVWXYZ\" \n",
    "Utiliza tu nombre sin repetir ninguna letra, es decir si te llamas ANTONIO usa ANTOI "
   ]
  },
  {
   "cell_type": "code",
   "execution_count": 1,
   "id": "deb6d43d",
   "metadata": {},
   "outputs": [
    {
     "name": "stdout",
     "output_type": "stream",
     "text": [
      "Hola = KRÑD\n"
     ]
    }
   ],
   "source": [
    "def Julio_Cesar(entrada):\n",
    "    \"\"\"Esribe tu código aquí\"\"\"\n",
    "    entrada = entrada.upper()\n",
    "    acentos = {\"Á\":\"A\",\"É\":\"E\",\"Í\":\"I\",\"Ó\":\"O\",\"Ú\":\"U\"}\n",
    "\n",
    "    for acento, sin_acento in acentos.items():\n",
    "        entrada = entrada.replace (acento,sin_acento)\n",
    "\n",
    "    alfabeto = \"ABCDEFGHIJKLMNÑOPQRSTUVWXYZ\"\n",
    "    salida = \"\"\n",
    "\n",
    "    for letra in entrada:\n",
    "        if letra in alfabeto:\n",
    "            indice = alfabeto.index(letra)\n",
    "            nuevo_indice = (indice+3)%27\n",
    "            salida+=alfabeto[nuevo_indice]\n",
    "        else:\n",
    "            salida+=letra\n",
    "\n",
    "    \n",
    "    return salida\n",
    "\n",
    "\n",
    "\n",
    "print(\"Hola =\", Julio_Cesar(\"Hola\"))\n"
   ]
  },
  {
   "cell_type": "code",
   "execution_count": 4,
   "id": "1ff4a4ba",
   "metadata": {},
   "outputs": [
    {
     "name": "stdout",
     "output_type": "stream",
     "text": [
      "Hola tu nombre, ¿Qué tal estas? ABCDEFGHIJKLMNÑOPQRSTUVWXYZ\n",
      "entrada encriptada con TUNOMBRE\n"
     ]
    }
   ],
   "source": [
    "def tu_nombre(entrada):\n",
    "    print(entrada)\n",
    "    abc=\"ABCDEFGHIJKLMNÑOPQRSTUVWXYZ\"\n",
    "    \n",
    "    \"\"\"Esribe tu código aquí\"\"\"\n",
    "    \n",
    "    #esta debería ser la salida\n",
    "    salida=\"entrada encriptada con TUNOMBRE\"\n",
    "    \n",
    "    print(salida)\n",
    "\n",
    "tu_nombre(\"Hola tu nombre, ¿Qué tal estas? ABCDEFGHIJKLMNÑOPQRSTUVWXYZ\")"
   ]
  },
  {
   "cell_type": "code",
   "execution_count": null,
   "id": "3d2ecdcf",
   "metadata": {},
   "outputs": [],
   "source": []
  }
 ],
 "metadata": {
  "kernelspec": {
   "display_name": "Python 3 (ipykernel)",
   "language": "python",
   "name": "python3"
  },
  "language_info": {
   "codemirror_mode": {
    "name": "ipython",
    "version": 3
   },
   "file_extension": ".py",
   "mimetype": "text/x-python",
   "name": "python",
   "nbconvert_exporter": "python",
   "pygments_lexer": "ipython3",
   "version": "3.12.6"
  }
 },
 "nbformat": 4,
 "nbformat_minor": 5
}
