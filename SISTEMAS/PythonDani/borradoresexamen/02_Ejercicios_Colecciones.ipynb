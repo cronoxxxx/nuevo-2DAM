{
 "cells": [
  {
   "cell_type": "markdown",
   "id": "9b066a79",
   "metadata": {},
   "source": [
    "<hr>\n",
    "<b><font color='red'>Ejercicio 01</font></b>\n",
    "\n",
    "Completa y responde:"
   ]
  },
  {
   "cell_type": "code",
   "execution_count": 18,
   "id": "14315206",
   "metadata": {},
   "outputs": [
    {
     "name": "stdout",
     "output_type": "stream",
     "text": [
      "Violeta\n",
      "['Rojo', 'Naranja', 'Verde', 'Azul', 'Añil', 'Violeta']\n",
      "['Rojo', 'Naranja', 'Verde', 'Azul', 'Añil', 'Violeta']\n",
      "['Azul', 'Añil', 'Naranja', 'Rojo', 'Verde', 'Violeta']\n",
      "6\n"
     ]
    }
   ],
   "source": [
    "lista = [\"Rojo\",\"Naranja\",\"Amarillo\",\"Verde\",\"Azul\",\"Añil\",\"Violeta\"]\n",
    "#imprime por pantalla el septimo item\n",
    "print(lista[-1])\n",
    "#borra el Amarillo e imprime por pantalla la lista entera\n",
    "\"\"\"Esribe tu código aquí\"\"\"\n",
    "lista.remove(\"Amarillo\")\n",
    "print(lista)\n",
    "\n",
    "\"\"\"Esribe tu código aquí\"\"\"\n",
    "lista[lista.index(\"Naranja\")],lista[lista.index(\"Verde\")] = lista[lista.index(\"Verde\")],lista[lista.index(\"Naranja\")]\n",
    "print(lista)\n",
    "#cambia la posción del Naranja por la posición del Verde e imprime por pantalla la lista entera\n",
    "\"\"\"Esribe tu código aquí\"\"\"\n",
    "lista= sorted(lista)\n",
    "print(lista)\n",
    "#ordena la lista e imprimela por pantalla\n",
    "\"\"\"Esribe tu código aquí\"\"\"\n",
    "#¿Cuál es la longitud de la lista?\n",
    "\"\"\"Esribe tu código aquí\"\"\"\n",
    "print(len(lista))"
   ]
  },
  {
   "cell_type": "markdown",
   "id": "49d3d66d",
   "metadata": {},
   "source": [
    "<hr>\n",
    "<b><font color='red'>Ejercicio 02</font></b>\n",
    "\n",
    "Es el mismo ejercicio que el anterior, pero ahora lo hacemos con tuplas."
   ]
  },
  {
   "cell_type": "code",
   "execution_count": 34,
   "id": "ea21a1f9",
   "metadata": {},
   "outputs": [
    {
     "name": "stdout",
     "output_type": "stream",
     "text": [
      "Violeta\n",
      "('Rojo', 'Naranja', 'Verde', 'Azul', 'Añil', 'Violeta')\n",
      "('Rojo', 'Verde', 'Naranja', 'Azul', 'Añil', 'Violeta')\n",
      "('Azul', 'Añil', 'Naranja', 'Rojo', 'Verde', 'Violeta')\n",
      "6\n"
     ]
    }
   ],
   "source": [
    "tupla = (\"Rojo\",\"Naranja\",\"Amarillo\",\"Verde\",\"Azul\",\"Añil\",\"Violeta\")\n",
    "#imprime por pantalla el septimo item\n",
    "\"\"\"Esribe tu código aquí\"\"\"\n",
    "print(tupla[-1])\n",
    "#borra el Amarillo e imprime por pantalla la tupla entera\n",
    "\"\"\"Esribe tu código aquí\"\"\"\n",
    "temporal = list(tupla)\n",
    "temporal.remove(\"Amarillo\")\n",
    "tupla=tuple(temporal)\n",
    "\n",
    "print(tupla)\n",
    "\n",
    "#cambia la posción del Naranja por la posición del Verde e imprime por pantalla la tupla entera\n",
    "\"\"\"Esribe tu código aquí\"\"\"\n",
    "temporal = list(tupla)\n",
    "indice_naranja = temporal.index(\"Naranja\")\n",
    "indice_verde = temporal.index(\"Verde\")\n",
    "temporal[indice_naranja], temporal[indice_verde] = temporal[indice_verde], temporal[indice_naranja]\n",
    "tupla = tuple(temporal)\n",
    "print(tupla)\n",
    "#ordena la tupla e imprimela por pantalla\n",
    "\"\"\"Esribe tu código aquí\"\"\"\n",
    "temporal = list(tupla)\n",
    "tupla = tuple(sorted(temporal))\n",
    "\n",
    "print(tupla)\n",
    "\n",
    "#¿Cuál es la longitud de la tupla?\n",
    "\"\"\"Esribe tu código aquí\"\"\"\n",
    "\n",
    "print(len(tupla))"
   ]
  },
  {
   "cell_type": "markdown",
   "id": "2a94218a",
   "metadata": {},
   "source": [
    "<hr>\n",
    "<b><font color='red'>Ejercicio 03</font></b>\n",
    "\n",
    "Completa y responde"
   ]
  },
  {
   "cell_type": "code",
   "execution_count": 39,
   "id": "7b28e685",
   "metadata": {},
   "outputs": [
    {
     "name": "stdout",
     "output_type": "stream",
     "text": [
      "Adrian\n",
      "20\n",
      "septiembre\n"
     ]
    },
    {
     "data": {
      "text/plain": [
       "'Esribe tu código aquí'"
      ]
     },
     "execution_count": 39,
     "metadata": {},
     "output_type": "execute_result"
    }
   ],
   "source": [
    "dic = {\n",
    "    \"Nombre\":\"pon tu nombre\",\n",
    "    \"Apellido\":\"pon tu apellido\",\n",
    "    \"Día de nacimiento\":\"pon el día que naciste en número\",\n",
    "    \"Mes de nacimiento\":\"pon el mes que naciste en número\"\n",
    "}\n",
    "\n",
    "#responde a las siguientes preguntas accediento al diccionario que has creado:\n",
    "#¿Cómo te llamas?\n",
    "\"\"\"Esribe tu código aquí\"\"\"\n",
    "dic[\"Nombre\"]=\"Adrian\"\n",
    "print(dic[\"Nombre\"])\n",
    "#¿Qué día naciste?\n",
    "\"\"\"Esribe tu código aquí\"\"\"\n",
    "dic[\"Día de nacimiento\"]= 20\n",
    "print(dic[\"Día de nacimiento\"])\n",
    "#Utiliza la siguiente lista y con tu diccionario responde a la siugiente pregunta con el nombre del mes\n",
    "MES=[\"enero\",\"febrero\",\"marzo\",\"abril\",\"mayo\",\"junio\",\"julio\",\"agosto\",\"septiembre\",\"octubre\",\"noviembre\",\"diciembre\"]\n",
    "#¿Qué mes naciste?\n",
    "setiembre_index = MES.index(\"septiembre\")\n",
    "dic[\"Mes de nacimiento\"]=MES[setiembre_index]\n",
    "print(dic[\"Mes de nacimiento\"])\n",
    "\"\"\"Esribe tu código aquí\"\"\""
   ]
  },
  {
   "cell_type": "code",
   "execution_count": null,
   "id": "bbfda54b",
   "metadata": {},
   "outputs": [],
   "source": []
  }
 ],
 "metadata": {
  "kernelspec": {
   "display_name": "Python 3 (ipykernel)",
   "language": "python",
   "name": "python3"
  },
  "language_info": {
   "codemirror_mode": {
    "name": "ipython",
    "version": 3
   },
   "file_extension": ".py",
   "mimetype": "text/x-python",
   "name": "python",
   "nbconvert_exporter": "python",
   "pygments_lexer": "ipython3",
   "version": "3.12.6"
  }
 },
 "nbformat": 4,
 "nbformat_minor": 5
}
