{
 "cells": [
  {
   "cell_type": "markdown",
   "id": "63af781b",
   "metadata": {},
   "source": [
    "<hr>\n",
    "<b><font color='red'>Ejercicio 01</font></b>\n",
    "\n",
    "Completa y responde:"
   ]
  },
  {
   "cell_type": "code",
   "execution_count": 1,
   "id": "e38ae569",
   "metadata": {},
   "outputs": [
    {
     "data": {
      "text/plain": [
       "'Esribe tu código aquí'"
      ]
     },
     "execution_count": 1,
     "metadata": {},
     "output_type": "execute_result"
    }
   ],
   "source": [
    "d=25 #cambia 25 el día de tu cumpleaños\n",
    "m=1  #cambia el 1 por el mes de tu cumpleaños\n",
    "x=d+m\n",
    "#¿Qué tipo es?\n",
    "\"\"\"Esribe tu código aquí\"\"\"\n",
    "x=x*1.00\n",
    "\"\"\"Esribe tu código aquí\"\"\"\n",
    "#¿Qué tipo es?¿A cambiado?"
   ]
  },
  {
   "cell_type": "markdown",
   "id": "8999caec",
   "metadata": {},
   "source": [
    "<hr>\n",
    "<b><font color='red'>Ejercicio 02</font></b>  \n",
    "\n",
    "Completa y responde:"
   ]
  },
  {
   "cell_type": "code",
   "execution_count": 2,
   "id": "9255b564",
   "metadata": {},
   "outputs": [
    {
     "name": "stdout",
     "output_type": "stream",
     "text": [
      "   AND\n",
      "----------\n",
      "0 0 | 0\n",
      "0 1 | 0\n",
      "1 0 | 0\n",
      "1 1 | 1\n",
      "\n"
     ]
    },
    {
     "data": {
      "text/plain": [
       "'Esribe tu código aquí'"
      ]
     },
     "execution_count": 2,
     "metadata": {},
     "output_type": "execute_result"
    }
   ],
   "source": [
    "print(\"   AND\")\n",
    "print(\"----------\")\n",
    "print(\"0 0 | \"+str(0 and 0))\n",
    "print(\"0 1 | \"+str(0 and 1))\n",
    "print(\"1 0 | \"+str(1 and 0))\n",
    "print(\"1 1 | \"+str(1 and 1))\n",
    "print(\"\")\n",
    "#Crea la tabla del OR y XOR\n",
    "\"\"\"Esribe tu código aquí\"\"\""
   ]
  },
  {
   "cell_type": "markdown",
   "id": "bcda0d32",
   "metadata": {},
   "source": [
    "<hr>\n",
    "<b><font color='red'>Ejercicio 03</font></b>\n",
    "\n",
    "s=\"tu nombre apellido\"  \n",
    "Reemplaza:\n",
    "- a por @\n",
    "- e por 3\n",
    "- i por 1\n",
    "- o por 0\n",
    "- u por 4\n",
    "- y los espacios por -"
   ]
  },
  {
   "cell_type": "code",
   "execution_count": 3,
   "id": "9d8a0aab",
   "metadata": {},
   "outputs": [
    {
     "data": {
      "text/plain": [
       "'Esribe tu código aquí'"
      ]
     },
     "execution_count": 3,
     "metadata": {},
     "output_type": "execute_result"
    }
   ],
   "source": [
    "s=\"tu nombre apellido\"\n",
    "\"\"\"Esribe tu código aquí\"\"\""
   ]
  },
  {
   "cell_type": "markdown",
   "id": "c0847014",
   "metadata": {},
   "source": [
    "<hr>\n",
    "<b><font color='red'>Ejercicio 04</font></b>  \n",
    "\n",
    "Haz que solo se impriman los nombres de los siguientes archivos, usa la misma instrucción en todos los casos:"
   ]
  },
  {
   "cell_type": "code",
   "execution_count": 4,
   "id": "f5028d05",
   "metadata": {},
   "outputs": [
    {
     "data": {
      "text/plain": [
       "'Esribe tu código aquí'"
      ]
     },
     "execution_count": 4,
     "metadata": {},
     "output_type": "execute_result"
    }
   ],
   "source": [
    "archivo=\"readme.txt\"\n",
    "#debería aparecer solo readme\n",
    "\"\"\"Esribe tu código aquí\"\"\"\n",
    "archivo=\"readme.jpg\"\n",
    "#debería aparecer solo readme\n",
    "\"\"\"Esribe tu código aquí\"\"\"\n",
    "archivo=\"readme_02.docx\"\n",
    "#debería aparecer solo readme_02\n",
    "\"\"\"Esribe tu código aquí\"\"\"\n",
    "archivo=\"readme.txt\"\n",
    "#debería aparecer solo readme\n",
    "\"\"\"Esribe tu código aquí\"\"\"\n",
    "archivo=\"readme.02.txt\"\n",
    "#debería aparecer solo readme.02\n",
    "\"\"\"Esribe tu código aquí\"\"\""
   ]
  }
 ],
 "metadata": {
  "kernelspec": {
   "display_name": "Python 3",
   "language": "python",
   "name": "python3"
  },
  "language_info": {
   "codemirror_mode": {
    "name": "ipython",
    "version": 3
   },
   "file_extension": ".py",
   "mimetype": "text/x-python",
   "name": "python",
   "nbconvert_exporter": "python",
   "pygments_lexer": "ipython3",
   "version": "3.8.10"
  }
 },
 "nbformat": 4,
 "nbformat_minor": 5
}
