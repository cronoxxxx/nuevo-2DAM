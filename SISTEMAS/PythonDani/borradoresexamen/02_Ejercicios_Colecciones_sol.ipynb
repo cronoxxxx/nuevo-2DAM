{
 "cells": [
  {
   "cell_type": "markdown",
   "id": "7af0257b",
   "metadata": {},
   "source": [
    "<hr>\n",
    "<b><font color='red'>Ejercicio 01</font></b>\n",
    "\n",
    "Completa y responde:"
   ]
  },
  {
   "cell_type": "code",
   "execution_count": 1,
   "id": "b16c3fc1",
   "metadata": {},
   "outputs": [
    {
     "name": "stdout",
     "output_type": "stream",
     "text": [
      "Violeta\n",
      "['Rojo', 'Naranja', 'Verde', 'Azul', 'Añil', 'Violeta']\n",
      "['Rojo', 'Verde', 'Naranja', 'Azul', 'Añil', 'Violeta']\n",
      "['Azul', 'Añil', 'Naranja', 'Rojo', 'Verde', 'Violeta']\n",
      "6\n"
     ]
    }
   ],
   "source": [
    "lista = [\"Rojo\",\"Naranja\",\"Amarillo\",\"Verde\",\"Azul\",\"Añil\",\"Violeta\"]\n",
    "#imprime por pantalla el septimo item\n",
    "print(lista[6])\n",
    "#borra el Amarillo e imprime por pantalla la lista entera\n",
    "lista.remove(\"Amarillo\")\n",
    "print(lista)\n",
    "#cambia la posción del Naranja por la posición del Verde e imprime por pantalla la lista entera\n",
    "lista[lista.index(\"Verde\")], lista[lista.index(\"Naranja\")] = lista[lista.index(\"Naranja\")], lista[lista.index(\"Verde\")]\n",
    "print(lista)\n",
    "#ordena la lista e imprimela por pantalla\n",
    "lista.sort()\n",
    "print(lista)\n",
    "#¿Cuál es la longitud de la lista?\n",
    "print(len(lista))"
   ]
  },
  {
   "cell_type": "markdown",
   "id": "42dd5c47",
   "metadata": {},
   "source": [
    "<hr>\n",
    "<b><font color='red'>Ejercicio 02</font></b>\n",
    "\n",
    "Es el mismo ejercicio que el anterior, pero ahora lo hacemos con tuplas."
   ]
  },
  {
   "cell_type": "code",
   "execution_count": 2,
   "id": "6f1289be",
   "metadata": {},
   "outputs": [
    {
     "name": "stdout",
     "output_type": "stream",
     "text": [
      "Violeta\n",
      "No se puede\n",
      "No se puede\n",
      "No se puede\n",
      "7\n"
     ]
    }
   ],
   "source": [
    "tupla = (\"Rojo\",\"Naranja\",\"Amarillo\",\"Verde\",\"Azul\",\"Añil\",\"Violeta\")\n",
    "#imprime por pantalla el septimo item\n",
    "print(tupla[6])\n",
    "#borra el Amarillo e imprime por pantalla la tupla entera\n",
    "print(\"No se puede\")\n",
    "#cambia la posción del Naranja por la posición del Verde e imprime por pantalla la tupla entera\n",
    "print(\"No se puede\")\n",
    "#ordena la tupla e imprimela por pantalla\n",
    "print(\"No se puede\")\n",
    "#¿Cuál es la longitud de la tupla?\n",
    "print(len(tupla))"
   ]
  },
  {
   "cell_type": "markdown",
   "id": "183e4ba4",
   "metadata": {},
   "source": [
    "<hr>\n",
    "<b><font color='red'>Ejercicio 03</font></b>\n",
    "\n",
    "Completa y responde"
   ]
  },
  {
   "cell_type": "code",
   "execution_count": 3,
   "id": "016b09a1",
   "metadata": {},
   "outputs": [
    {
     "name": "stdout",
     "output_type": "stream",
     "text": [
      "Nombre Apellido\n",
      "25\n",
      "enero\n"
     ]
    }
   ],
   "source": [
    "dic = {\n",
    "    \"Nombre\":\"Nombre\",\n",
    "    \"Apellido\":\"Apellido\",\n",
    "    \"Día de nacimiento\":\"25\",\n",
    "    \"Mes de nacimiento\":\"1\"\n",
    "}\n",
    "\n",
    "#responde a las siguientes preguntas accediento al diccionario que has creado:\n",
    "#¿Cómo te llamas?\n",
    "print(dic[\"Nombre\"] + \" \" + dic[\"Apellido\"])\n",
    "#¿Qué día naciste?\n",
    "print(dic[\"Día de nacimiento\"])\n",
    "#Utiliza la siguiente lista y con tu diccionario responde a la siugiente pregunta con el nombre del mes\n",
    "MES=[\"enero\",\"febrero\",\"marzo\",\"abril\",\"mayo\",\"junio\",\"julio\",\"agosto\",\"septiembre\",\"octubre\",\"noviembre\",\"diciembre\"]\n",
    "#¿Qué mes naciste?\n",
    "print(MES[int(dic[\"Mes de nacimiento\"])-1])\n",
    "#Utilizo un -1 ya que al empezar en 0, me dirá que el mes 11 es diciembre, así que toca recolocarlo."
   ]
  },
  {
   "cell_type": "code",
   "execution_count": null,
   "id": "2394ebe1",
   "metadata": {},
   "outputs": [],
   "source": []
  }
 ],
 "metadata": {
  "kernelspec": {
   "display_name": "Python 3",
   "language": "python",
   "name": "python3"
  },
  "language_info": {
   "codemirror_mode": {
    "name": "ipython",
    "version": 3
   },
   "file_extension": ".py",
   "mimetype": "text/x-python",
   "name": "python",
   "nbconvert_exporter": "python",
   "pygments_lexer": "ipython3",
   "version": "3.8.10"
  }
 },
 "nbformat": 4,
 "nbformat_minor": 5
}
